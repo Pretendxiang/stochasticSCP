{
 "cells": [
  {
   "cell_type": "markdown",
   "metadata": {},
   "source": [
    "# 5D uncertain Dubins car model"
   ]
  },
  {
   "cell_type": "code",
   "execution_count": 1,
   "metadata": {
    "scrolled": true
   },
   "outputs": [],
   "source": [
    "# If first time running this code on a personal computer\n",
    "# using Pkg\n",
    "# Pkg.instantiate()"
   ]
  },
  {
   "cell_type": "markdown",
   "metadata": {},
   "source": [
    "### Script / SCP Initialization"
   ]
  },
  {
   "cell_type": "code",
   "execution_count": 4,
   "metadata": {},
   "outputs": [
    {
     "data": {
      "text/plain": [
       "(50.0, 500.0, 1.0e6, 0.001, 0.001)"
      ]
     },
     "metadata": {},
     "output_type": "display_data"
    }
   ],
   "source": [
    "using LinearAlgebra\n",
    "using Ipopt\n",
    "using JuMP\n",
    "using NLsolve\n",
    "using Plots\n",
    "\n",
    "include(\"./Models/dubins5D.jl\")\n",
    "include(\"./SCP/scp_problem.jl\")\n",
    "include(\"./utils/dubins_plotting.jl\")\n",
    "\n",
    "# Number of time-discretization points and maximum number of GuSTO iterations\n",
    "N, max_it = 41, 15\n",
    "\n",
    "# Defining the model, the initial strategy and each convex subproblem\n",
    "model         = Dubins5D()\n",
    "μ_p, Σ_p, U_p = initialize_trajectory(model,N)\n",
    "scp_problem   = SCPProblem(model, N, μ_p, Σ_p, U_p)\n",
    "\n",
    "# Defining SCP parameters\n",
    "(Delta0, omega0, omegamax, epsilon,\n",
    "        convergence_threshold) = get_initial_scp_parameters(model)"
   ]
  },
  {
   "cell_type": "markdown",
   "metadata": {},
   "source": [
    "## SCP algorithm"
   ]
  },
  {
   "cell_type": "code",
   "execution_count": 23,
   "metadata": {
    "scrolled": true
   },
   "outputs": [
    {
     "name": "stdout",
     "output_type": "stream",
     "text": [
      "-----------\n",
      "Iteration 1\n",
      "-----------"
     ]
    },
    {
     "name": "stdout",
     "output_type": "stream",
     "text": [
      "\n",
      "optimized: LOCALLY_INFEASIBLE\n",
      "Accept solution.\n",
      "(1-step) metric = 2.040548109854185\n",
      "-----------\n",
      "Iteration 2\n",
      "-----------\n"
     ]
    },
    {
     "name": "stdout",
     "output_type": "stream",
     "text": [
      "optimized: LOCALLY_SOLVED\n",
      "Accept solution.\n",
      "(1-step) metric = 5.7421841325029845\n",
      "-----------\n",
      "Iteration 3\n",
      "-----------"
     ]
    },
    {
     "name": "stdout",
     "output_type": "stream",
     "text": [
      "\n",
      "optimized: LOCALLY_SOLVED\n",
      "Accept solution.\n",
      "(1-step) metric = 3.409217676045821\n",
      "-----------\n",
      "Iteration 4\n",
      "-----------"
     ]
    },
    {
     "name": "stdout",
     "output_type": "stream",
     "text": [
      "\n",
      "optimized: LOCALLY_SOLVED\n",
      "Accept solution.\n",
      "(1-step) metric = 1.8003372055601425\n",
      "-----------\n",
      "Iteration 5\n",
      "-----------\n"
     ]
    },
    {
     "name": "stdout",
     "output_type": "stream",
     "text": [
      "optimized: LOCALLY_SOLVED\n",
      "Accept solution.\n",
      "(1-step) metric = 0.5599777909643506\n",
      "-----------\n",
      "Iteration 6\n",
      "-----------"
     ]
    },
    {
     "name": "stdout",
     "output_type": "stream",
     "text": [
      "\n",
      "optimized: LOCALLY_SOLVED\n",
      "Accept solution.\n",
      "(1-step) metric = 0.19115874862778237\n",
      "-----------\n",
      "Iteration 7\n",
      "-----------"
     ]
    },
    {
     "name": "stdout",
     "output_type": "stream",
     "text": [
      "\n",
      "optimized: LOCALLY_SOLVED\n",
      "Accept solution.\n",
      "(1-step) metric = 0.03239086830076095\n",
      "-----------\n",
      "Iteration 8\n",
      "-----------"
     ]
    },
    {
     "name": "stdout",
     "output_type": "stream",
     "text": [
      "\n",
      "optimized: LOCALLY_SOLVED\n",
      "Accept solution.\n",
      "(1-step) metric = 0.005021970741826527\n",
      "-----------\n",
      "Iteration 9\n",
      "-----------"
     ]
    },
    {
     "name": "stdout",
     "output_type": "stream",
     "text": [
      "\n",
      "optimized: LOCALLY_SOLVED\n",
      "Accept solution.\n",
      "(1-step) metric = 0.0007857782964299765\n",
      "-----------\n",
      "Iteration 10\n",
      "-----------\n"
     ]
    },
    {
     "name": "stdout",
     "output_type": "stream",
     "text": [
      "optimized: LOCALLY_SOLVED\n",
      "Accept solution.\n",
      "(1-step) metric = 0.00012167306573109179\n",
      ">>> Finished <<<\n"
     ]
    },
    {
     "name": "stdout",
     "output_type": "stream",
     "text": [
      ">>>>> Satisfies trust region constraint.\n",
      "  4.658326 seconds (8.28 M allocations: 451.709 MiB, 2.04% gc time, 20.43% compilation time)\n"
     ]
    }
   ],
   "source": [
    "# Defining penalization weights, trust-region radius and the list of solutions\n",
    "@time begin\n",
    "\n",
    "include(\"./Models/dubins5D.jl\")\n",
    "include(\"SCP/scp_problem.jl\")\n",
    "μ_p,   Σ_p,   U_p   = initialize_trajectory(model, N)\n",
    "μ,     Σ,     U     = copy(μ_p), copy(Σ_p), copy(U_p)\n",
    "μ_all, Σ_all, U_all = [], [], []\n",
    "push!(μ_all, copy(μ))\n",
    "push!(Σ_all, copy(Σ))\n",
    "push!(U_all, copy(U))\n",
    "\n",
    "Delta = Delta0\n",
    "\n",
    "# GuSTO loop\n",
    "success, it = false, 1\n",
    "while (it < max_it) && \n",
    "      !(success && \n",
    "         (convergence_metric(model, μ,U, μ_p,U_p) +\n",
    "          convergence_metric(model, μ_all[end-2],U_all[end-2], μ_p,U_p)) \n",
    "                < convergence_threshold)\n",
    "    println(\"-----------\\nIteration $it\\n-----------\")\n",
    "    \n",
    "    # Store the solution at the previous step and the linearized dynamics\n",
    "    μ_p, Σ_p, U_p                                        = copy(μ), copy(Σ), copy(U)\n",
    "    model.b, model.b_dx, model.b_du, model.σ, model.σ_dx = compute_dynamics(model, μ_p, U_p)\n",
    "    \n",
    "    # Define the convex subproblem\n",
    "    reset_problem(        scp_problem, model)\n",
    "    set_parameters(       scp_problem, model, μ_p, U_p, omega0, Delta)\n",
    "    define_nonconvex_cost(scp_problem, model)\n",
    "    define_constraints(   scp_problem, model)\n",
    "    \n",
    "    # Solve the convex subproblem\n",
    "    JuMP.optimize!(scp_problem.solver_model)\n",
    "    println(\"optimized: \", termination_status(scp_problem.solver_model))\n",
    "    \n",
    "    μ_sol, Σ_sol, U_sol = JuMP.value.(scp_problem.μ), JuMP.value.(scp_problem.Σ), JuMP.value.(scp_problem.U)\n",
    "    \n",
    "    # -----------\n",
    "    # SCP\n",
    "    println(\"Accept solution.\")\n",
    "    μ, Σ, U = copy(μ_sol), copy(Σ_sol), copy(U_sol)\n",
    "    \n",
    "    Delta = 0.99 * Delta\n",
    "\n",
    "    if (it > 2) # needs at least 3 iterations to check convergence\n",
    "        success = true\n",
    "    else\n",
    "        success = false\n",
    "    end\n",
    "\n",
    "    # Collecting the solution at each iteration\n",
    "    push!(μ_all,copy(μ))\n",
    "    push!(Σ_all,copy(Σ))\n",
    "    push!(U_all,copy(U))\n",
    "    it += 1\n",
    "    \n",
    "    println(\"(1-step) metric = $(convergence_metric(model,μ,U,μ_p,U_p))\")\n",
    "end\n",
    "\n",
    "println(\">>> Finished <<<\")\n",
    "\n",
    "μ_f,Σ_f,U_f,μ_fp,Σ_fp,U_fp = μ_all[end],Σ_all[end],U_all[end],μ_all[end-1],Σ_all[end-1],U_all[end-1]\n",
    "if satisfies_trust_region_constraints(scp_problem, model, μ_f,Σ_f,U_f,μ_fp,Σ_fp,U_fp, Delta)\n",
    "    println(\">>>>> Satisfies trust region constraint.\")\n",
    "end\n",
    "\n",
    "end "
   ]
  },
  {
   "cell_type": "markdown",
   "metadata": {},
   "source": [
    "# Plots"
   ]
  },
  {
   "cell_type": "code",
   "execution_count": 19,
   "metadata": {},
   "outputs": [
    {
     "name": "stdout",
     "output_type": "stream",
     "text": [
      "Done Plotting"
     ]
    },
    {
     "name": "stderr",
     "output_type": "stream",
     "text": [
      "sys:1: UserWarning: Matplotlib is currently using agg, which is a non-GUI backend, so cannot show the figure.\r\n"
     ]
    }
   ],
   "source": [
    "include(\"./utils/dubins_plotting.jl\")\n",
    "idx = [1,2]\n",
    "fig = plt_solutions(scp_problem, model, μ_all, Σ_all, U_all,\n",
    "                B_plot_ellipses_final_traj=false, B_manually_set_lims=true, idx=idx)\n",
    "\n",
    "include(\"./Models/dubins5D.jl\")\n",
    "X_MC = simulate_monte_carlo(model, U_f, N_MC=10000)\n",
    "plot_MC(fig, X_MC[:,:,1:1000], idx=idx)\n",
    "\n",
    "ax = plt.gca()\n",
    "ax.plot(μ_all[end][idx[1],:], μ_all[end][idx[2],:],\n",
    "                    label=\"Final\", linewidth=1, color=\"b\", linestyle=\"dashed\", marker=\"o\")\n",
    "\n",
    "#plt.legend(loc='lower right', fontsize=20, labelspacing=0.)\n",
    "plt.draw()\n",
    "plt.xlabel(L\"x\", fontsize=20)\n",
    "plt.ylabel(L\"y\", rotation=0, labelpad=20, fontsize=20)\n",
    "plt.savefig(\"figs/freeflyer/trajs.png\",bbox_inches=\"tight\",dpi=350)\n",
    "\n",
    "print(\"Done Plotting\")"
   ]
  },
  {
   "cell_type": "code",
   "execution_count": 9,
   "metadata": {},
   "outputs": [
    {
     "name": "stdout",
     "output_type": "stream",
     "text": [
      "Done Plotting"
     ]
    }
   ],
   "source": [
    "include(\"./utils/dubins_plotting.jl\")\n",
    "plt_all_lin_velocities(μ_all, false)\n",
    "\n",
    "ax = plt.gca()\n",
    "ax.plot(1:(size(μ_all[end])[2]), μ_all[end][4,:],\n",
    "                    label=\"Final\", linewidth=1, color=\"b\", linestyle=\"dashed\", marker=\"o\")\n",
    "# plot_MC_1dim(fig, X_MC, idx=5)\n",
    "\n",
    "plt.title(L\"Linear Velocities $v$\", pad=10)\n",
    "\n",
    "# plt.savefig(\"figs/freeflyer/vels_lin.png\",bbox_inches=\"tight\",dpi=350)\n",
    "\n",
    "print(\"Done Plotting\")"
   ]
  },
  {
   "cell_type": "code",
   "execution_count": 12,
   "metadata": {},
   "outputs": [],
   "source": [
    "include(\"./utils/dubins_plotting.jl\")\n",
    "plt_all_ang_velocities(μ_all, false)\n",
    "\n",
    "ax = plt.gca()\n",
    "ax.plot(1:(size(μ_all[end])[2]), μ_all[end][5,:],\n",
    "                    label=\"Final\", linewidth=1, color=\"b\", linestyle=\"dashed\", marker=\"o\")\n",
    "# plot_MC_1dim(fig, X_MC, idx=5)\n",
    "\n",
    "plt.title(L\"Angular Velocities $\\omega$\", pad=10)\n",
    "\n",
    "plt.savefig(\"figs/freeflyer/vels_ang.png\",bbox_inches=\"tight\",dpi=350)\n",
    "\n",
    "print(\"Done Plotting\")"
   ]
  },
  {
   "cell_type": "code",
   "execution_count": 13,
   "metadata": {},
   "outputs": [
    {
     "name": "stdout",
     "output_type": "stream",
     "text": [
      "Done Plotting"
     ]
    }
   ],
   "source": [
    "include(\"./utils/dubins_plotting.jl\")\n",
    "plt_all_lin_controls(U_all, false)\n",
    "\n",
    "ax = plt.gca()\n",
    "ax.plot(1:(size(U_all[end])[2]), U_all[end][1,:],\n",
    "                    label=\"Final\", linewidth=1, color=\"b\", linestyle=\"dashed\", marker=\"o\")\n",
    "# plot_MC_1dim(fig, X_MC, idx=5)\n",
    "\n",
    "plt.title(L\"Linear Controls $a_v$\", pad=10)\n",
    "\n",
    "plt.savefig(\"figs/freeflyer/controls_lin.png\",bbox_inches=\"tight\",dpi=350)\n",
    "\n",
    "print(\"Done Plotting\")"
   ]
  },
  {
   "cell_type": "code",
   "execution_count": 14,
   "metadata": {},
   "outputs": [
    {
     "name": "stdout",
     "output_type": "stream",
     "text": [
      "Done Plotting"
     ]
    }
   ],
   "source": [
    "include(\"./utils/dubins_plotting.jl\")\n",
    "plt_all_ang_controls(U_all, false)\n",
    "\n",
    "ax = plt.gca()\n",
    "ax.plot(1:(size(U_all[end])[2]), U_all[end][2,:],\n",
    "                    label=\"Final\", linewidth=1, color=\"b\", linestyle=\"dashed\", marker=\"o\")\n",
    "# plot_MC_1dim(fig, X_MC, idx=5)\n",
    "\n",
    "plt.title(L\"Angular Controls $a_{\\omega}$\", pad=10)\n",
    "\n",
    "plt.savefig(\"figs/freeflyer/controls_ang.png\",bbox_inches=\"tight\",dpi=350)\n",
    "\n",
    "print(\"Done Plotting\")"
   ]
  },
  {
   "cell_type": "code",
   "execution_count": 15,
   "metadata": {},
   "outputs": [
    {
     "data": {
      "text/plain": [
       "(5, 41, 10000)"
      ]
     },
     "metadata": {},
     "output_type": "display_data"
    }
   ],
   "source": [
    "size(X_MC)"
   ]
  },
  {
   "cell_type": "code",
   "execution_count": 16,
   "metadata": {},
   "outputs": [
    {
     "data": {
      "text/plain": [
       "4"
      ]
     },
     "metadata": {},
     "output_type": "display_data"
    }
   ],
   "source": [
    "length(model.obstacles)"
   ]
  },
  {
   "cell_type": "code",
   "execution_count": 17,
   "metadata": {},
   "outputs": [
    {
     "name": "stdout",
     "output_type": "stream",
     "text": [
      "nb in obs = 614.0/10000 ==> percentage = 6.14%"
     ]
    }
   ],
   "source": [
    "# Evaulate nb of collided trajectories\n",
    "x_dim, N, N_MC = size(X_MC)\n",
    "nb_in_obs      = zeros(N_MC)\n",
    "for k = 1:N\n",
    "    for i = 1:N_MC\n",
    "        for obs_i = 1:length(model.obstacles)\n",
    "            x_ki = X_MC[:,k,i]\n",
    "            po, ro = model.obstacles[obs_i]\n",
    "\n",
    "            if (x_ki[1]-po[1])^2+(x_ki[2]-po[2])^2 < ro^2\n",
    "                nb_in_obs[i] = 1\n",
    "            end\n",
    "        end\n",
    "    end\n",
    "end\n",
    "print(\"nb in obs = $(sum(nb_in_obs))/$N_MC ==> percentage = $(100.0*sum(nb_in_obs) / N_MC)%\")"
   ]
  },
  {
   "cell_type": "code",
   "execution_count": null,
   "metadata": {},
   "outputs": [],
   "source": []
  }
 ],
 "metadata": {
  "kernelspec": {
   "display_name": "Julia 1.6.7",
   "language": "julia",
   "name": "julia-1.6"
  },
  "language_info": {
   "file_extension": ".jl",
   "mimetype": "application/julia",
   "name": "julia",
   "version": "1.6.7"
  }
 },
 "nbformat": 4,
 "nbformat_minor": 2
}
